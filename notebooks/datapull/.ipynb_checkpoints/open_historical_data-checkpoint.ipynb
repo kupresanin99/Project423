{
 "cells": [
  {
   "cell_type": "code",
   "execution_count": 1,
   "metadata": {},
   "outputs": [],
   "source": [
    "import pickle\n",
    "import json\n",
    "import pandas as pd\n",
    "from pandas.io.json import json_normalize\n",
    "\n",
    "pd.set_option('display.max_columns', None)\n",
    "\n",
    "with open('outfile1', 'rb') as fp:\n",
    "    baseball_data = pickle.load(fp)  # Load up the 2018 data\n",
    "\n",
    "del baseball_data[-1] # Last day, no games\n",
    "del baseball_data[108] # All star break, no games\n",
    "del baseball_data[108] # All star break, no games\n",
    "del baseball_data[108] # All star break, no games\n",
    "del baseball_data[30] # April 31 does not exist\n",
    "del baseball_data[91] # June 31 does not exist\n"
   ]
  },
  {
   "cell_type": "code",
   "execution_count": 2,
   "metadata": {},
   "outputs": [],
   "source": [
    "baseball_json = []\n",
    "\n",
    "for days in baseball_data:\n",
    "    baseball_json.append(json.loads(days))\n",
    "    \n",
    "for days in baseball_json:\n",
    "    del days['_comment']  # API pull had weird last key value pair, delete\n",
    "    \n",
    "baseball_json_norm = json_normalize(baseball_json)\n",
    "baseball_json_norm = baseball_json_norm.drop(\n",
    "    columns=['league.alias', 'league.date','league.id', 'league.name'])\n",
    "\n",
    "data = json_normalize(baseball_json_norm.iloc[0,0])\n",
    "for rows in range(1,180):\n",
    "    data = data.append(json_normalize(baseball_json_norm.iloc[rows, 0]), \n",
    "                       ignore_index=True, sort=False)"
   ]
  },
  {
   "cell_type": "code",
   "execution_count": 9,
   "metadata": {},
   "outputs": [
    {
     "data": {
      "text/plain": [
       "(2445, 141)"
      ]
     },
     "execution_count": 9,
     "metadata": {},
     "output_type": "execute_result"
    }
   ],
   "source": [
    "data.shape \n",
    "\n",
    "# From 2018, we have 2445 games and 141 variables\n",
    "# These 141 variables are available after games are played.\n",
    "# Each day, before games are played, we only get 67 variables, so need to delete those columns."
   ]
  },
  {
   "cell_type": "code",
   "execution_count": 10,
   "metadata": {},
   "outputs": [],
   "source": [
    "with open('outfile_april_12_pre', 'rb') as fp:\n",
    "    baseball_data1 = pickle.load(fp)"
   ]
  },
  {
   "cell_type": "code",
   "execution_count": 23,
   "metadata": {},
   "outputs": [],
   "source": [
    "data_all_cols = list(data.columns.values)\n",
    "data_good_cols = list(baseball_data1.columns.values)\n",
    "data = data.drop(list(set(data_all_cols) - set(data_good_cols)), axis=1)\n",
    "\n",
    "# data contains only the 67 variables available before today's MLB games start"
   ]
  },
  {
   "cell_type": "code",
   "execution_count": 37,
   "metadata": {},
   "outputs": [],
   "source": []
  },
  {
   "cell_type": "code",
   "execution_count": null,
   "metadata": {},
   "outputs": [],
   "source": []
  },
  {
   "cell_type": "code",
   "execution_count": 4,
   "metadata": {},
   "outputs": [],
   "source": [
    "#joey.shape[0] - joey['game.id'].nunique(dropna=True) # All 2018 MLB games except for the 38 games in March.  \n",
    "\n",
    "# We appear to have 53 rows of duplicates in some fashion?  "
   ]
  },
  {
   "cell_type": "code",
   "execution_count": 5,
   "metadata": {},
   "outputs": [],
   "source": [
    "#joey.shape[0] - joey['game.rescheduled'].isna().sum()"
   ]
  },
  {
   "cell_type": "code",
   "execution_count": 6,
   "metadata": {},
   "outputs": [],
   "source": [
    "#joey['total.runs'] = joey['game.home.runs'] + joey['game.away.runs']"
   ]
  },
  {
   "cell_type": "code",
   "execution_count": 7,
   "metadata": {},
   "outputs": [],
   "source": [
    "#joey['valid.game'] = joey['total.runs'] > 0"
   ]
  }
 ],
 "metadata": {
  "kernelspec": {
   "display_name": "Python 3",
   "language": "python",
   "name": "python3"
  },
  "language_info": {
   "codemirror_mode": {
    "name": "ipython",
    "version": 3
   },
   "file_extension": ".py",
   "mimetype": "text/x-python",
   "name": "python",
   "nbconvert_exporter": "python",
   "pygments_lexer": "ipython3",
   "version": "3.5.6"
  }
 },
 "nbformat": 4,
 "nbformat_minor": 2
}
