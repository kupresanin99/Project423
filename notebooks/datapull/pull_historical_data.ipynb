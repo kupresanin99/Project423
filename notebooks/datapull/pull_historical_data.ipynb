{
 "cells": [
  {
   "cell_type": "code",
   "execution_count": 21,
   "metadata": {},
   "outputs": [],
   "source": [
    "def pull_historical_data(month, day):\n",
    "    \n",
    "    \"\"\"\n",
    "    Each run calls SportRadar API and returns one day of baseball data\n",
    "    \n",
    "    month = {4, 5, 6, 7, 8, 9}\n",
    "    day = {1, 2, ..., 30, 31}\n",
    "    \n",
    "    Returns json object which includes multiple baseball variables\n",
    "    \"\"\"\n",
    "    \n",
    "    conn = http.client.HTTPSConnection(\"api.sportradar.us\")\n",
    "\n",
    "    conn.request(\"GET\", \n",
    "             \"/mlb/trial/v6.5/en/games/2018/{0}/{1}/boxscore.json?api_key=bw84ac36vu34rdk5vkkh4psx\".format(month, day))\n",
    "\n",
    "    res = conn.getresponse()\n",
    "    data = res.read()\n",
    "    \n",
    "    return data"
   ]
  },
  {
   "cell_type": "code",
   "execution_count": 65,
   "metadata": {},
   "outputs": [],
   "source": [
    "import http.client\n",
    "import time\n",
    "import pickle\n",
    "\n",
    "\"\"\"\n",
    "Pull all the data from 2018 baseball season.\n",
    "Export to pickle file.\n",
    "\n",
    "\"\"\"\n",
    "\n",
    "baseball_data = []\n",
    "\n",
    "for month in range(4, 10):\n",
    "    for day in range(1, 32):\n",
    "        baseball_data.append(pull_historical_data(month, day).decode(\"utf-8\"))\n",
    "        time.sleep(2)\n",
    "        \n",
    "\n",
    "with open('outfile1', 'wb') as fp:\n",
    "    pickle.dump(baseball_data, fp)"
   ]
  }
 ],
 "metadata": {
  "kernelspec": {
   "display_name": "Python 3",
   "language": "python",
   "name": "python3"
  },
  "language_info": {
   "codemirror_mode": {
    "name": "ipython",
    "version": 3
   },
   "file_extension": ".py",
   "mimetype": "text/x-python",
   "name": "python",
   "nbconvert_exporter": "python",
   "pygments_lexer": "ipython3",
   "version": "3.5.6"
  }
 },
 "nbformat": 4,
 "nbformat_minor": 2
}
